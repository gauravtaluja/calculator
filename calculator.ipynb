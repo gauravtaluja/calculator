{
 "cells": [
  {
   "cell_type": "code",
   "execution_count": 3,
   "metadata": {},
   "outputs": [
    {
     "name": "stdin",
     "output_type": "stream",
     "text": [
      "enter a sign to perform operation or to break press 6 _\n"
     ]
    },
    {
     "name": "stdout",
     "output_type": "stream",
     "text": [
      "Invalid Operation\n"
     ]
    },
    {
     "name": "stdin",
     "output_type": "stream",
     "text": [
      "enter a sign to perform operation or to break press 6 -\n",
      "enter first number 5\n",
      "enter second number 4\n"
     ]
    },
    {
     "name": "stdout",
     "output_type": "stream",
     "text": [
      "subtraction of 2 numbers is:  1\n"
     ]
    },
    {
     "name": "stdin",
     "output_type": "stream",
     "text": [
      "enter a sign to perform operation or to break press 6 6\n"
     ]
    }
   ],
   "source": [
    "while True:\n",
    "    try:\n",
    "        choice = input('enter a sign to perform operation or to break press 6')\n",
    "        if choice == '+':  #sum\n",
    "            a = int(input('enter first number'))\n",
    "            b = int(input('enter second number'))\n",
    "            print('addition of 2 numbers is:',(a+b))\n",
    "        elif choice == '-':# sub\n",
    "            a = int(input('enter first number'))\n",
    "            b = int(input('enter second number'))            \n",
    "            print('subtraction of 2 numbers is: ',(a-b))\n",
    "        elif choice == '*': # multiply\n",
    "            a = int(input('enter first number'))\n",
    "            b = int(input('enter second number'))\n",
    "            print('multilpication of 2 numbers is:',(a*b))\n",
    "        elif choice == '/':  #   divide\n",
    "            a = int(input('enter first number'))\n",
    "            b = int(input('enter second number'))\n",
    "            print('answers is:',(a//b))\n",
    "        elif choice == '%':   # modulo\n",
    "            a = int(input('enter first number'))\n",
    "            b = int(input('enter second number'))\n",
    "            print('modulo of 2 numbers is:',(a%b))\n",
    "        elif choice == '6':\n",
    "            break\n",
    "        else:\n",
    "            print('Invalid Operation')\n",
    "            \n",
    "    except EOFError:     \n",
    "        break"
   ]
  }
 ],
 "metadata": {
  "kernelspec": {
   "display_name": "Python 3",
   "language": "python",
   "name": "python3"
  },
  "language_info": {
   "codemirror_mode": {
    "name": "ipython",
    "version": 3
   },
   "file_extension": ".py",
   "mimetype": "text/x-python",
   "name": "python",
   "nbconvert_exporter": "python",
   "pygments_lexer": "ipython3",
   "version": "3.6.10"
  }
 },
 "nbformat": 4,
 "nbformat_minor": 4
}
